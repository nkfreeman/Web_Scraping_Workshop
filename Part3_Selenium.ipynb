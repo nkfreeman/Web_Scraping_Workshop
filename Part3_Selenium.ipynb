{
 "cells": [
  {
   "cell_type": "markdown",
   "metadata": {},
   "source": [
    "# Web Scraping Workshop 3 - Browser Automation with Selenium¶\n",
    "Prepared by: Nickolas K. Freeman, Ph.D.\n",
    "\n",
    "This notebook demonstrates how we can use the `Selenium` webdriver to automate a version of the Chrome browser. `Selenium` was designed to allow web developers to construct test suites for verifying the correct operation of developed websites. In constrast to the functionality of the `Requests` and `BeautifulSoup` libraries, `Selenium` allows us to codify more complex interactions with websites. This is necessary for many modern website designs.\n",
    "\n",
    "You can install the `Python` bindings for `Selenium` using the command `conda install -c conda-forge selenium`. This demonstration will consider automating the `Chrome` browser. For this, you will need to download an appropriate version of the ChromeDriver available at https://chromedriver.chromium.org/.\n",
    "\n",
    "The following code block imports the selenium modules and objects that we will be using."
   ]
  },
  {
   "cell_type": "code",
   "execution_count": 1,
   "metadata": {},
   "outputs": [],
   "source": [
    "import time\n",
    "\n",
    "from selenium import webdriver\n",
    "from selenium.webdriver.chrome.options import Options\n",
    "from selenium.webdriver.common.keys import Keys"
   ]
  },
  {
   "cell_type": "markdown",
   "metadata": {},
   "source": [
    "In this tutorial, we will be looking at very basic use of Selenium via Python. We will only see a small top of the iceberg. If you are interested in learning more about the library, please see the documentation at https://selenium-python.readthedocs.io/.\n",
    "\n",
    "The following code block launches an instance of the chromedriver."
   ]
  },
  {
   "cell_type": "code",
   "execution_count": 2,
   "metadata": {},
   "outputs": [],
   "source": [
    "driver = webdriver.Chrome()\n",
    "driver.maximize_window()"
   ]
  },
  {
   "cell_type": "markdown",
   "metadata": {},
   "source": [
    "Recall that when we used the `Requests` library, the default user-agent associated with each request referred to the `Requests` library and we had to specify a user-agent if we wanted this default to be changed. With `Selenium`, we are using a web browser and it handles the user-agent differently. The following code block shows how we can use Selenium to execute a JavaScript command that will return the current user-agent."
   ]
  },
  {
   "cell_type": "code",
   "execution_count": 3,
   "metadata": {},
   "outputs": [
    {
     "data": {
      "text/plain": [
       "'Mozilla/5.0 (Windows NT 10.0; Win64; x64) AppleWebKit/537.36 (KHTML, like Gecko) Chrome/81.0.4044.113 Safari/537.36'"
      ]
     },
     "execution_count": 3,
     "metadata": {},
     "output_type": "execute_result"
    }
   ],
   "source": [
    "driver.execute_script(\"return navigator.userAgent;\")"
   ]
  },
  {
   "cell_type": "markdown",
   "metadata": {},
   "source": [
    "We will familiarize ourselves with `Selenium` by writing a script that automates the collection of data from a fake e-commerce site that was designed for users to practice using `Selenium`. The following code block shows how we can navigate to the website URL."
   ]
  },
  {
   "cell_type": "code",
   "execution_count": 4,
   "metadata": {},
   "outputs": [],
   "source": [
    "url = 'http://automationpractice.com'\n",
    "driver.get(url)"
   ]
  },
  {
   "cell_type": "markdown",
   "metadata": {},
   "source": [
    "The following code block shows one method that we can use to *select* the search box at the top of the main page."
   ]
  },
  {
   "cell_type": "code",
   "execution_count": 5,
   "metadata": {},
   "outputs": [
    {
     "data": {
      "text/plain": [
       "<selenium.webdriver.remote.webelement.WebElement (session=\"26ea89482be7384401499e1205b5281f\", element=\"c7d3784d-31b4-4b19-8e78-41c26ef1bcd1\")>"
      ]
     },
     "execution_count": 5,
     "metadata": {},
     "output_type": "execute_result"
    }
   ],
   "source": [
    "driver.find_element_by_id('search_query_top')"
   ]
  },
  {
   "cell_type": "markdown",
   "metadata": {},
   "source": [
    "The following code block shows that we can store *selected* elements as variables, allowing us to perform additional operations on the object."
   ]
  },
  {
   "cell_type": "code",
   "execution_count": 6,
   "metadata": {},
   "outputs": [],
   "source": [
    "search_box = driver.find_element_by_id('search_query_top')"
   ]
  },
  {
   "cell_type": "markdown",
   "metadata": {},
   "source": [
    "For instance, we can send a search string..."
   ]
  },
  {
   "cell_type": "code",
   "execution_count": 7,
   "metadata": {},
   "outputs": [],
   "source": [
    "search_box.send_keys('Mens shirt')"
   ]
  },
  {
   "cell_type": "markdown",
   "metadata": {},
   "source": [
    "... and *press* the enter button."
   ]
  },
  {
   "cell_type": "code",
   "execution_count": 8,
   "metadata": {},
   "outputs": [],
   "source": [
    "search_box.send_keys(Keys.RETURN)"
   ]
  },
  {
   "cell_type": "markdown",
   "metadata": {},
   "source": [
    "If we want to navigate *back*, we simply call the `back` method of the driver object."
   ]
  },
  {
   "cell_type": "code",
   "execution_count": 9,
   "metadata": {},
   "outputs": [],
   "source": [
    "driver.back()"
   ]
  },
  {
   "cell_type": "markdown",
   "metadata": {},
   "source": [
    "There are many ways to identify and select HTML elements using `Selenium`, each have there caveats. For example, we can search the HTML to identify elements with particular link test as shown below. However, this query will fail because the search is case-sensitive."
   ]
  },
  {
   "cell_type": "code",
   "execution_count": 10,
   "metadata": {},
   "outputs": [
    {
     "ename": "NoSuchElementException",
     "evalue": "Message: no such element: Unable to locate element: {\"method\":\"partial link text\",\"selector\":\"Best Sellers\"}\n  (Session info: chrome=81.0.4044.113)\n",
     "output_type": "error",
     "traceback": [
      "\u001b[1;31m---------------------------------------------------------------------------\u001b[0m",
      "\u001b[1;31mNoSuchElementException\u001b[0m                    Traceback (most recent call last)",
      "\u001b[1;32m<ipython-input-10-6c23ff433711>\u001b[0m in \u001b[0;36m<module>\u001b[1;34m\u001b[0m\n\u001b[1;32m----> 1\u001b[1;33m \u001b[0mdriver\u001b[0m\u001b[1;33m.\u001b[0m\u001b[0mfind_element_by_partial_link_text\u001b[0m\u001b[1;33m(\u001b[0m\u001b[1;34m'Best Sellers'\u001b[0m\u001b[1;33m)\u001b[0m\u001b[1;33m\u001b[0m\u001b[1;33m\u001b[0m\u001b[0m\n\u001b[0m",
      "\u001b[1;32mC:\\Anaconda3\\lib\\site-packages\\selenium\\webdriver\\remote\\webdriver.py\u001b[0m in \u001b[0;36mfind_element_by_partial_link_text\u001b[1;34m(self, link_text)\u001b[0m\n\u001b[0;32m    460\u001b[0m             \u001b[0melement\u001b[0m \u001b[1;33m=\u001b[0m \u001b[0mdriver\u001b[0m\u001b[1;33m.\u001b[0m\u001b[0mfind_element_by_partial_link_text\u001b[0m\u001b[1;33m(\u001b[0m\u001b[1;34m'Sign'\u001b[0m\u001b[1;33m)\u001b[0m\u001b[1;33m\u001b[0m\u001b[1;33m\u001b[0m\u001b[0m\n\u001b[0;32m    461\u001b[0m         \"\"\"\n\u001b[1;32m--> 462\u001b[1;33m         \u001b[1;32mreturn\u001b[0m \u001b[0mself\u001b[0m\u001b[1;33m.\u001b[0m\u001b[0mfind_element\u001b[0m\u001b[1;33m(\u001b[0m\u001b[0mby\u001b[0m\u001b[1;33m=\u001b[0m\u001b[0mBy\u001b[0m\u001b[1;33m.\u001b[0m\u001b[0mPARTIAL_LINK_TEXT\u001b[0m\u001b[1;33m,\u001b[0m \u001b[0mvalue\u001b[0m\u001b[1;33m=\u001b[0m\u001b[0mlink_text\u001b[0m\u001b[1;33m)\u001b[0m\u001b[1;33m\u001b[0m\u001b[1;33m\u001b[0m\u001b[0m\n\u001b[0m\u001b[0;32m    463\u001b[0m \u001b[1;33m\u001b[0m\u001b[0m\n\u001b[0;32m    464\u001b[0m     \u001b[1;32mdef\u001b[0m \u001b[0mfind_elements_by_partial_link_text\u001b[0m\u001b[1;33m(\u001b[0m\u001b[0mself\u001b[0m\u001b[1;33m,\u001b[0m \u001b[0mlink_text\u001b[0m\u001b[1;33m)\u001b[0m\u001b[1;33m:\u001b[0m\u001b[1;33m\u001b[0m\u001b[1;33m\u001b[0m\u001b[0m\n",
      "\u001b[1;32mC:\\Anaconda3\\lib\\site-packages\\selenium\\webdriver\\remote\\webdriver.py\u001b[0m in \u001b[0;36mfind_element\u001b[1;34m(self, by, value)\u001b[0m\n\u001b[0;32m    976\u001b[0m         return self.execute(Command.FIND_ELEMENT, {\n\u001b[0;32m    977\u001b[0m             \u001b[1;34m'using'\u001b[0m\u001b[1;33m:\u001b[0m \u001b[0mby\u001b[0m\u001b[1;33m,\u001b[0m\u001b[1;33m\u001b[0m\u001b[1;33m\u001b[0m\u001b[0m\n\u001b[1;32m--> 978\u001b[1;33m             'value': value})['value']\n\u001b[0m\u001b[0;32m    979\u001b[0m \u001b[1;33m\u001b[0m\u001b[0m\n\u001b[0;32m    980\u001b[0m     \u001b[1;32mdef\u001b[0m \u001b[0mfind_elements\u001b[0m\u001b[1;33m(\u001b[0m\u001b[0mself\u001b[0m\u001b[1;33m,\u001b[0m \u001b[0mby\u001b[0m\u001b[1;33m=\u001b[0m\u001b[0mBy\u001b[0m\u001b[1;33m.\u001b[0m\u001b[0mID\u001b[0m\u001b[1;33m,\u001b[0m \u001b[0mvalue\u001b[0m\u001b[1;33m=\u001b[0m\u001b[1;32mNone\u001b[0m\u001b[1;33m)\u001b[0m\u001b[1;33m:\u001b[0m\u001b[1;33m\u001b[0m\u001b[1;33m\u001b[0m\u001b[0m\n",
      "\u001b[1;32mC:\\Anaconda3\\lib\\site-packages\\selenium\\webdriver\\remote\\webdriver.py\u001b[0m in \u001b[0;36mexecute\u001b[1;34m(self, driver_command, params)\u001b[0m\n\u001b[0;32m    319\u001b[0m         \u001b[0mresponse\u001b[0m \u001b[1;33m=\u001b[0m \u001b[0mself\u001b[0m\u001b[1;33m.\u001b[0m\u001b[0mcommand_executor\u001b[0m\u001b[1;33m.\u001b[0m\u001b[0mexecute\u001b[0m\u001b[1;33m(\u001b[0m\u001b[0mdriver_command\u001b[0m\u001b[1;33m,\u001b[0m \u001b[0mparams\u001b[0m\u001b[1;33m)\u001b[0m\u001b[1;33m\u001b[0m\u001b[1;33m\u001b[0m\u001b[0m\n\u001b[0;32m    320\u001b[0m         \u001b[1;32mif\u001b[0m \u001b[0mresponse\u001b[0m\u001b[1;33m:\u001b[0m\u001b[1;33m\u001b[0m\u001b[1;33m\u001b[0m\u001b[0m\n\u001b[1;32m--> 321\u001b[1;33m             \u001b[0mself\u001b[0m\u001b[1;33m.\u001b[0m\u001b[0merror_handler\u001b[0m\u001b[1;33m.\u001b[0m\u001b[0mcheck_response\u001b[0m\u001b[1;33m(\u001b[0m\u001b[0mresponse\u001b[0m\u001b[1;33m)\u001b[0m\u001b[1;33m\u001b[0m\u001b[1;33m\u001b[0m\u001b[0m\n\u001b[0m\u001b[0;32m    322\u001b[0m             response['value'] = self._unwrap_value(\n\u001b[0;32m    323\u001b[0m                 response.get('value', None))\n",
      "\u001b[1;32mC:\\Anaconda3\\lib\\site-packages\\selenium\\webdriver\\remote\\errorhandler.py\u001b[0m in \u001b[0;36mcheck_response\u001b[1;34m(self, response)\u001b[0m\n\u001b[0;32m    240\u001b[0m                 \u001b[0malert_text\u001b[0m \u001b[1;33m=\u001b[0m \u001b[0mvalue\u001b[0m\u001b[1;33m[\u001b[0m\u001b[1;34m'alert'\u001b[0m\u001b[1;33m]\u001b[0m\u001b[1;33m.\u001b[0m\u001b[0mget\u001b[0m\u001b[1;33m(\u001b[0m\u001b[1;34m'text'\u001b[0m\u001b[1;33m)\u001b[0m\u001b[1;33m\u001b[0m\u001b[1;33m\u001b[0m\u001b[0m\n\u001b[0;32m    241\u001b[0m             \u001b[1;32mraise\u001b[0m \u001b[0mexception_class\u001b[0m\u001b[1;33m(\u001b[0m\u001b[0mmessage\u001b[0m\u001b[1;33m,\u001b[0m \u001b[0mscreen\u001b[0m\u001b[1;33m,\u001b[0m \u001b[0mstacktrace\u001b[0m\u001b[1;33m,\u001b[0m \u001b[0malert_text\u001b[0m\u001b[1;33m)\u001b[0m\u001b[1;33m\u001b[0m\u001b[1;33m\u001b[0m\u001b[0m\n\u001b[1;32m--> 242\u001b[1;33m         \u001b[1;32mraise\u001b[0m \u001b[0mexception_class\u001b[0m\u001b[1;33m(\u001b[0m\u001b[0mmessage\u001b[0m\u001b[1;33m,\u001b[0m \u001b[0mscreen\u001b[0m\u001b[1;33m,\u001b[0m \u001b[0mstacktrace\u001b[0m\u001b[1;33m)\u001b[0m\u001b[1;33m\u001b[0m\u001b[1;33m\u001b[0m\u001b[0m\n\u001b[0m\u001b[0;32m    243\u001b[0m \u001b[1;33m\u001b[0m\u001b[0m\n\u001b[0;32m    244\u001b[0m     \u001b[1;32mdef\u001b[0m \u001b[0m_value_or_default\u001b[0m\u001b[1;33m(\u001b[0m\u001b[0mself\u001b[0m\u001b[1;33m,\u001b[0m \u001b[0mobj\u001b[0m\u001b[1;33m,\u001b[0m \u001b[0mkey\u001b[0m\u001b[1;33m,\u001b[0m \u001b[0mdefault\u001b[0m\u001b[1;33m)\u001b[0m\u001b[1;33m:\u001b[0m\u001b[1;33m\u001b[0m\u001b[1;33m\u001b[0m\u001b[0m\n",
      "\u001b[1;31mNoSuchElementException\u001b[0m: Message: no such element: Unable to locate element: {\"method\":\"partial link text\",\"selector\":\"Best Sellers\"}\n  (Session info: chrome=81.0.4044.113)\n"
     ]
    }
   ],
   "source": [
    "driver.find_element_by_partial_link_text('Best Sellers')"
   ]
  },
  {
   "cell_type": "markdown",
   "metadata": {},
   "source": [
    "The previous exception could cause your script to fail if you did not have proper exception handling in place. Thus, I have found that it is often a good practice to use the `find_elements...` methods instead of the `find_element...` variations when finding objects. If the element does not exist, the `find_elements...` variations will return an empty list, which evaluates to `False` in Python. The following code block provides an example based on the previous command. "
   ]
  },
  {
   "cell_type": "code",
   "execution_count": 11,
   "metadata": {},
   "outputs": [
    {
     "name": "stdout",
     "output_type": "stream",
     "text": [
      "Element does not exist!\n"
     ]
    }
   ],
   "source": [
    "if driver.find_elements_by_partial_link_text('Best Sellers'):\n",
    "    print('Element(s) found')\n",
    "else:\n",
    "    print('Element does not exist!')"
   ]
  },
  {
   "cell_type": "markdown",
   "metadata": {},
   "source": [
    "The following code block shows the correct command to find the best sellers element by partial link text..."
   ]
  },
  {
   "cell_type": "code",
   "execution_count": 12,
   "metadata": {},
   "outputs": [
    {
     "data": {
      "text/plain": [
       "<selenium.webdriver.remote.webelement.WebElement (session=\"26ea89482be7384401499e1205b5281f\", element=\"0c4f89bf-25fc-46fa-bba1-b1fb9b599dc6\")>"
      ]
     },
     "execution_count": 12,
     "metadata": {},
     "output_type": "execute_result"
    }
   ],
   "source": [
    "driver.find_element_by_partial_link_text('BEST SELLERS')"
   ]
  },
  {
   "cell_type": "markdown",
   "metadata": {},
   "source": [
    "... by class name ..."
   ]
  },
  {
   "cell_type": "code",
   "execution_count": 13,
   "metadata": {},
   "outputs": [
    {
     "data": {
      "text/plain": [
       "<selenium.webdriver.remote.webelement.WebElement (session=\"26ea89482be7384401499e1205b5281f\", element=\"0c4f89bf-25fc-46fa-bba1-b1fb9b599dc6\")>"
      ]
     },
     "execution_count": 13,
     "metadata": {},
     "output_type": "execute_result"
    }
   ],
   "source": [
    "driver.find_element_by_class_name('blockbestsellers')"
   ]
  },
  {
   "cell_type": "markdown",
   "metadata": {},
   "source": [
    "... and by xpath."
   ]
  },
  {
   "cell_type": "code",
   "execution_count": 14,
   "metadata": {},
   "outputs": [
    {
     "data": {
      "text/plain": [
       "<selenium.webdriver.remote.webelement.WebElement (session=\"26ea89482be7384401499e1205b5281f\", element=\"0c4f89bf-25fc-46fa-bba1-b1fb9b599dc6\")>"
      ]
     },
     "execution_count": 14,
     "metadata": {},
     "output_type": "execute_result"
    }
   ],
   "source": [
    "driver.find_element_by_xpath('//*[@id=\"home-page-tabs\"]/li[2]/a')"
   ]
  },
  {
   "cell_type": "markdown",
   "metadata": {},
   "source": [
    "I also commonly use CSS selectiors. The following table shows how we can use CSS selectors to find elements by various attributes.\n",
    "\n",
    "From https://www.w3schools.com/cssref/css_selectors.asp (accessed 4/16/2020):\n",
    "\n",
    "<table class=\"w3-table-all notranslate\">\n",
    "  <tbody><tr>\n",
    "    <th style=\"width:20%\">Selector</th>\n",
    "    <th style=\"width:20%\">Example</th>\n",
    "    <th>Example description</th>\n",
    "  </tr>\n",
    "  <tr>\n",
    "    <td><a href=\"sel_class.asp\">.<i>class</i></a></td>\n",
    "    <td class=\"notranslate\">.intro</td>\n",
    "    <td>Selects all elements with class=\"intro\"</td>\n",
    "  </tr>\n",
    "  <tr>\n",
    "    <td><em>.class1.class2</em></td>\n",
    "    <td class=\"notranslate\">.name1.name2</td>\n",
    "    <td>Selects all elements with both <em>name1</em> and <em>name2</em> set \n",
    "    within its class attribute</td>\n",
    "  </tr>  \n",
    "  <tr>\n",
    "    <td><em>.class1 .class2</em></td>\n",
    "    <td class=\"notranslate\">.name1 .name2</td>\n",
    "    <td>Selects all elements with <em>name2</em> that is a descendant of an \n",
    "    element with <em>name1</em></td>\n",
    "  </tr>  \n",
    "  <tr>\n",
    "    <td><a href=\"sel_id.asp\">#<i>id</i></a></td>\n",
    "    <td class=\"notranslate\">#firstname</td>\n",
    "    <td>Selects the element with id=\"firstname\"</td>\n",
    "  </tr>  <tr>\n",
    "    <td><a href=\"sel_all.asp\">*</a></td>\n",
    "    <td class=\"notranslate\">*</td>\n",
    "    <td>Selects all elements</td>\n",
    "  </tr>\n",
    "  <tr>\n",
    "    <td><i><a href=\"sel_element.asp\">element</a></i></td>\n",
    "    <td class=\"notranslate\">p</td>\n",
    "    <td>Selects all &lt;p&gt; elements</td>\n",
    "  </tr>\n",
    "  <tr>\n",
    "    <td><i><a href=\"sel_element_class.asp\">element.class</a></i></td>\n",
    "    <td class=\"notranslate\">p.intro</td>\n",
    "    <td>Selects all &lt;p&gt; elements with class=\"intro\"</td>\n",
    "  </tr>\n",
    "  <tr>\n",
    "    <td><i><a href=\"sel_element_comma.asp\">element,element</a></i></td>\n",
    "    <td class=\"notranslate\">div, p</td>\n",
    "    <td>Selects all &lt;div&gt; elements and all &lt;p&gt; elements</td>\n",
    "  </tr>\n",
    "  <tr>\n",
    "    <td><a href=\"sel_element_element.asp\"><i>element</i> <i>element</i></a></td>\n",
    "    <td class=\"notranslate\">div p</td>\n",
    "    <td>Selects all &lt;p&gt; elements inside &lt;div&gt; elements</td>\n",
    "  </tr>\n",
    "  <tr>\n",
    "    <td><a href=\"sel_element_gt.asp\"><i>element</i>&gt;<i>element</i></a></td>\n",
    "    <td class=\"notranslate\">div &gt; p</td>\n",
    "    <td>Selects all &lt;p&gt; elements where the parent is a &lt;div&gt; element</td>\n",
    "  </tr>\n",
    "  <tr>\n",
    "    <td><a href=\"sel_element_pluss.asp\"><i>element</i>+<i>element</i></a></td>\n",
    "    <td class=\"notranslate\">div + p</td>\n",
    "    <td>Selects all &lt;p&gt; elements that are placed immediately after &lt;div&gt; elements</td>\n",
    "  </tr>\n",
    "  <tr>\n",
    "    <td><a href=\"sel_gen_sibling.asp\"><i>element1</i>~<i>element2</i></a></td>\n",
    "    <td>p ~ ul</td>\n",
    "    <td>Selects every &lt;ul&gt; element that are preceded by a &lt;p&gt; element</td>\n",
    "  </tr>\n",
    "  <tr>\n",
    "    <td><a href=\"sel_attribute.asp\">[<i>attribute</i>]</a></td>\n",
    "    <td class=\"notranslate\">[target]</td>\n",
    "    <td>Selects all elements with a target attribute</td>\n",
    "  </tr>\n",
    "  <tr>\n",
    "    <td><a href=\"sel_attribute_value.asp\">[<i>attribute</i>=<i>value</i>]</a></td>\n",
    "    <td class=\"notranslate\">[target=_blank]</td>\n",
    "    <td>Selects all elements with target=\"_blank\"</td>\n",
    "  </tr>\n",
    "  <tr>\n",
    "    <td><a href=\"sel_attribute_value_contains.asp\">[<i>attribute</i>~=<i>value</i>]</a></td>\n",
    "    <td class=\"notranslate\">[title~=flower]</td>\n",
    "    <td>Selects all elements with a title attribute containing the word \"flower\"</td>\n",
    "  </tr>\n",
    "  <tr>\n",
    "    <td><a href=\"sel_attribute_value_lang.asp\">[<i>attribute</i>|=<i>value</i>]</a></td>\n",
    "    <td class=\"notranslate\">[lang|=en]</td>\n",
    "    <td>Selects all elements with a lang attribute value starting with \"en\"</td>\n",
    "  </tr>\n",
    "  <tr>\n",
    "    <td><a href=\"sel_attr_begin.asp\">[<i>attribute</i>^=<i>value</i>]</a></td>\n",
    "    <td>a[href^=\"https\"]</td>\n",
    "    <td>Selects every &lt;a&gt; element whose href attribute value begins with \"https\"</td>\n",
    "  </tr>\n",
    "  <tr>\n",
    "    <td><a href=\"sel_attr_end.asp\">[<i>attribute</i>$=<i>value</i>]</a></td>\n",
    "    <td>a[href$=\".pdf\"]</td>\n",
    "    <td>Selects every &lt;a&gt; element whose href attribute value ends with \".pdf\"</td>\n",
    "  </tr>\n",
    "  <tr>\n",
    "    <td><a href=\"sel_attr_contain.asp\">[<i>attribute</i>*=<i>value</i>]</a></td>\n",
    "    <td>a[href*=\"w3schools\"]</td>\n",
    "    <td>Selects every &lt;a&gt; element whose href attribute value contains the substring \"w3schools\"</td>\n",
    "  </tr>\n",
    "  <tr>\n",
    "    <td><a href=\"sel_active.asp\">:active</a></td>\n",
    "    <td class=\"notranslate\">a:active</td>\n",
    "    <td>Selects the active link</td>\n",
    "  </tr>\n",
    "  <tr>\n",
    "    <td><a href=\"sel_after.asp\">::after</a></td>\n",
    "    <td class=\"notranslate\">p::after</td>\n",
    "    <td>Insert something after the content of each &lt;p&gt; element</td>\n",
    "  </tr>\n",
    "  <tr>\n",
    "    <td><a href=\"sel_before.asp\">::before</a></td>\n",
    "    <td class=\"notranslate\">p::before</td>\n",
    "    <td>Insert something before&nbsp;the content of each &lt;p&gt; element</td>\n",
    "  </tr>\n",
    "  <tr>\n",
    "    <td><a href=\"sel_checked.asp\">:checked</a></td>\n",
    "    <td>input:checked</td>\n",
    "    <td>Selects every checked &lt;input&gt; element</td>\n",
    "  </tr>\n",
    "  <tr>\n",
    "    <td><a href=\"sel_default.asp\">:default</a></td>\n",
    "    <td>input:default</td>\n",
    "    <td>Selects the default &lt;input&gt; element</td>\n",
    "  </tr>\n",
    "  <tr>\n",
    "    <td><a href=\"sel_disabled.asp\">:disabled</a></td>\n",
    "    <td>input:disabled</td>\n",
    "    <td>Selects every disabled &lt;input&gt; element</td>\n",
    "  </tr>\n",
    "  <tr>\n",
    "    <td><a href=\"sel_empty.asp\">:empty</a></td>\n",
    "    <td>p:empty</td>\n",
    "    <td>Selects every &lt;p&gt; element that has no children (including text nodes)</td>\n",
    "  </tr>\n",
    "  <tr>\n",
    "    <td><a href=\"sel_enabled.asp\">:enabled</a></td>\n",
    "    <td>input:enabled</td>\n",
    "    <td>Selects every enabled &lt;input&gt; element</td>\n",
    "  </tr>\n",
    "  <tr>\n",
    "    <td><a href=\"sel_firstchild.asp\">:first-child</a></td>\n",
    "    <td class=\"notranslate\">p:first-child</td>\n",
    "    <td>Selects every &lt;p&gt; element that is the first child of its parent</td>\n",
    "  </tr>\n",
    "  <tr>\n",
    "    <td><a href=\"sel_firstletter.asp\">::first-letter</a></td>\n",
    "    <td class=\"notranslate\">p::first-letter</td>\n",
    "    <td>Selects the first letter of every &lt;p&gt; element</td>\n",
    "  </tr>\n",
    "  <tr>\n",
    "    <td><a href=\"sel_firstline.asp\">::first-line</a></td>\n",
    "    <td class=\"notranslate\">p::first-line</td>\n",
    "    <td>Selects the first line of every &lt;p&gt; element</td>\n",
    "  </tr>\n",
    "  <tr>\n",
    "    <td><a href=\"sel_first-of-type.asp\">:first-of-type</a></td>\n",
    "    <td>p:first-of-type</td>\n",
    "    <td>Selects every &lt;p&gt; element that is the first &lt;p&gt; element of its parent</td>\n",
    "  </tr>\n",
    "  <tr>\n",
    "    <td><a href=\"sel_focus.asp\">:focus</a></td>\n",
    "    <td class=\"notranslate\">input:focus</td>\n",
    "    <td>Selects the input element which has focus</td>\n",
    "  </tr>\n",
    "  <tr>\n",
    "    <td><a href=\"sel_hover.asp\">:hover</a></td>\n",
    "    <td class=\"notranslate\">a:hover</td>\n",
    "    <td>Selects links on mouse over</td>\n",
    "  </tr>\n",
    "  <tr>\n",
    "    <td><a href=\"sel_in-range.asp\">:in-range</a></td>\n",
    "    <td class=\"notranslate\">input:in-range</td>\n",
    "    <td>Selects input elements with a value within a specified range</td>\n",
    "  </tr>\n",
    "  <tr>\n",
    "    <td><a href=\"sel_indeterminate.asp\">:indeterminate</a></td>\n",
    "    <td class=\"notranslate\">input:indeterminate</td>\n",
    "    <td>Selects input elements that are in an indeterminate state</td>\n",
    "  </tr>\n",
    "  <tr>\n",
    "    <td><a href=\"sel_invalid.asp\">:invalid</a></td>\n",
    "    <td class=\"notranslate\">input:invalid</td>\n",
    "    <td>Selects all input elements with an invalid value</td>\n",
    "  </tr>\n",
    "  <tr>\n",
    "    <td><a href=\"sel_lang.asp\">:lang(<i>language</i>)</a></td>\n",
    "    <td class=\"notranslate\">p:lang(it)</td>\n",
    "    <td>Selects every &lt;p&gt; element with a lang attribute equal to \"it\" (Italian)</td>\n",
    "  </tr>\n",
    "  <tr>\n",
    "    <td><a href=\"sel_last-child.asp\">:last-child</a></td>\n",
    "    <td>p:last-child</td>\n",
    "    <td>Selects every &lt;p&gt; element that is the last child of its parent</td>\n",
    "  </tr>\n",
    "  <tr>\n",
    "    <td><a href=\"sel_last-of-type.asp\">:last-of-type</a></td>\n",
    "    <td>p:last-of-type</td>\n",
    "    <td>Selects every &lt;p&gt; element that is the last &lt;p&gt; element of its parent</td>\n",
    "  </tr>\n",
    "  <tr>\n",
    "    <td><a href=\"sel_link.asp\">:link</a></td>\n",
    "    <td class=\"notranslate\">a:link</td>\n",
    "    <td>Selects all unvisited links</td>\n",
    "  </tr>\n",
    "  <tr>\n",
    "    <td><a href=\"sel_not.asp\">:not(<i>selector</i>)</a></td>\n",
    "    <td>:not(p)</td>\n",
    "    <td>Selects every element that is not a &lt;p&gt; element</td>\n",
    "  </tr>\n",
    "  <tr>\n",
    "    <td><a href=\"sel_nth-child.asp\">:nth-child(<i>n</i>)</a></td>\n",
    "    <td>p:nth-child(2)</td>\n",
    "    <td>Selects every &lt;p&gt; element that is the second child of its parent</td>\n",
    "  </tr>\n",
    "  <tr>\n",
    "    <td><a href=\"sel_nth-last-child.asp\">:nth-last-child(<i>n</i>)</a></td>\n",
    "    <td>p:nth-last-child(2)</td>\n",
    "    <td>Selects every &lt;p&gt; element that is the second child of its parent, counting from the last child</td>\n",
    "  </tr>\n",
    "  <tr>\n",
    "    <td><a href=\"sel_nth-last-of-type.asp\">:nth-last-of-type(<i>n</i>)</a></td>\n",
    "    <td>p:nth-last-of-type(2)</td>\n",
    "    <td>Selects every &lt;p&gt; element that is the second &lt;p&gt; element of its parent, counting from the last child</td>\n",
    "  </tr>\n",
    "  <tr>\n",
    "    <td><a href=\"sel_nth-of-type.asp\">:nth-of-type(<i>n</i>)</a></td>\n",
    "    <td>p:nth-of-type(2)</td>\n",
    "    <td>Selects every &lt;p&gt; element that is the second &lt;p&gt; element of its parent</td>\n",
    "  </tr>\n",
    "  <tr>\n",
    "    <td><a href=\"sel_only-of-type.asp\">:only-of-type</a></td>\n",
    "    <td>p:only-of-type</td>\n",
    "    <td>Selects every &lt;p&gt; element that is the only &lt;p&gt; element of its parent</td>\n",
    "  </tr>\n",
    "  <tr>\n",
    "    <td><a href=\"sel_only-child.asp\">:only-child</a></td>\n",
    "    <td>p:only-child</td>\n",
    "    <td>Selects every &lt;p&gt; element that is the only child of its parent</td>\n",
    "  </tr>\n",
    "  <tr>\n",
    "    <td><a href=\"sel_optional.asp\">:optional</a></td>\n",
    "    <td class=\"notranslate\">input:optional</td>\n",
    "    <td>Selects input elements with no \"required\" attribute</td>\n",
    "  </tr>\n",
    "  <tr>\n",
    "    <td><a href=\"sel_out-of-range.asp\">:out-of-range</a></td>\n",
    "    <td class=\"notranslate\">input:out-of-range</td>\n",
    "    <td>Selects input elements with a value outside a specified range</td>\n",
    "  </tr>\n",
    "  <tr>\n",
    "    <td><a href=\"sel_placeholder.asp\">::placeholder</a></td>\n",
    "    <td class=\"notranslate\">input::placeholder</td>\n",
    "    <td>Selects input elements with the \"placeholder\" attribute specified</td>\n",
    "  </tr>\n",
    "  <tr>\n",
    "    <td><a href=\"sel_read-only.asp\">:read-only</a></td>\n",
    "    <td class=\"notranslate\">input:read-only</td>\n",
    "    <td>Selects input elements with the \"readonly\" attribute specified</td>\n",
    "  </tr>\n",
    "  <tr>\n",
    "    <td><a href=\"sel_read-write.asp\">:read-write</a></td>\n",
    "    <td class=\"notranslate\">input:read-write</td>\n",
    "    <td>Selects input elements with the \"readonly\" attribute NOT specified</td>\n",
    "  </tr>\n",
    "  <tr>\n",
    "    <td><a href=\"sel_required.asp\">:required</a></td>\n",
    "    <td class=\"notranslate\">input:required</td>\n",
    "    <td>Selects input elements with the \"required\" attribute specified</td>\n",
    "  </tr>\n",
    "  <tr>\n",
    "    <td><a href=\"sel_root.asp\">:root</a></td>\n",
    "    <td>:root</td>\n",
    "    <td>Selects the document's root element</td>\n",
    "  </tr>\n",
    "  <tr>\n",
    "    <td><a href=\"sel_selection.asp\">::selection</a></td>\n",
    "    <td>::selection</td>\n",
    "    <td>Selects the portion of an element that is selected by a user</td>\n",
    "  </tr>\n",
    "  <tr>\n",
    "    <td><a href=\"sel_target.asp\">:target</a></td>\n",
    "    <td>#news:target </td>\n",
    "    <td>Selects the current active #news element (clicked on a URL containing that anchor name)</td>\n",
    "  </tr>\n",
    "  <tr>\n",
    "    <td><a href=\"sel_valid.asp\">:valid</a></td>\n",
    "    <td class=\"notranslate\">input:valid</td>\n",
    "    <td>Selects all input elements with a valid value</td>\n",
    "  </tr>\n",
    "  <tr>\n",
    "    <td><a href=\"sel_visited.asp\">:visited</a></td>\n",
    "    <td class=\"notranslate\">a:visited</td>\n",
    "    <td>Selects all visited links</td>\n",
    "  </tr>\n",
    "</tbody></table>"
   ]
  },
  {
   "cell_type": "markdown",
   "metadata": {},
   "source": [
    "The following code block selects the best sellers element using CSS selector."
   ]
  },
  {
   "cell_type": "code",
   "execution_count": 15,
   "metadata": {},
   "outputs": [
    {
     "data": {
      "text/plain": [
       "<selenium.webdriver.remote.webelement.WebElement (session=\"26ea89482be7384401499e1205b5281f\", element=\"0c4f89bf-25fc-46fa-bba1-b1fb9b599dc6\")>"
      ]
     },
     "execution_count": 15,
     "metadata": {},
     "output_type": "execute_result"
    }
   ],
   "source": [
    "driver.find_element_by_css_selector('.blockbestsellers')"
   ]
  },
  {
   "cell_type": "markdown",
   "metadata": {},
   "source": [
    "Let's suppose that we want to collect information on Women's tops. The following code block navigates to the *WOMEN* link and clicks it."
   ]
  },
  {
   "cell_type": "code",
   "execution_count": 16,
   "metadata": {},
   "outputs": [],
   "source": [
    "if driver.find_elements_by_link_text('WOMEN'):\n",
    "    women_link = driver.find_element_by_link_text('WOMEN')\n",
    "    women_link.click()"
   ]
  },
  {
   "cell_type": "markdown",
   "metadata": {},
   "source": [
    "Let's try to filter the products by tops. Note that simply finding elements that include the text *top* will be problematic because there is more than one on the page. The following code block shows how we can select a particular area of the webpage, which we will search within."
   ]
  },
  {
   "cell_type": "code",
   "execution_count": 17,
   "metadata": {},
   "outputs": [],
   "source": [
    "catalog_block = driver.find_element_by_id('layered_block_left')"
   ]
  },
  {
   "cell_type": "markdown",
   "metadata": {},
   "source": [
    "We will now select and click the checkbox to filter the products to just tops."
   ]
  },
  {
   "cell_type": "code",
   "execution_count": 18,
   "metadata": {},
   "outputs": [],
   "source": [
    "tops_filter = catalog_block.find_element_by_partial_link_text('Tops')\n",
    "tops_filter.click()"
   ]
  },
  {
   "cell_type": "markdown",
   "metadata": {},
   "source": [
    "The following code block shows how we can grap all of the product containers."
   ]
  },
  {
   "cell_type": "code",
   "execution_count": 19,
   "metadata": {},
   "outputs": [
    {
     "data": {
      "text/plain": [
       "[<selenium.webdriver.remote.webelement.WebElement (session=\"26ea89482be7384401499e1205b5281f\", element=\"dc6a279a-75d1-43ec-ad7d-143777ecdc81\")>,\n",
       " <selenium.webdriver.remote.webelement.WebElement (session=\"26ea89482be7384401499e1205b5281f\", element=\"21b1005b-e83f-47d8-9d8f-076fba3fce4e\")>,\n",
       " <selenium.webdriver.remote.webelement.WebElement (session=\"26ea89482be7384401499e1205b5281f\", element=\"65c71e8d-e681-438f-964e-d48987bce56e\")>,\n",
       " <selenium.webdriver.remote.webelement.WebElement (session=\"26ea89482be7384401499e1205b5281f\", element=\"d48f1156-610d-45f0-9448-f4bfb3f71558\")>,\n",
       " <selenium.webdriver.remote.webelement.WebElement (session=\"26ea89482be7384401499e1205b5281f\", element=\"0abde664-be45-49bb-8cb7-8d5913b23149\")>,\n",
       " <selenium.webdriver.remote.webelement.WebElement (session=\"26ea89482be7384401499e1205b5281f\", element=\"17470415-487e-406a-9fd3-bb708b4ed8d6\")>,\n",
       " <selenium.webdriver.remote.webelement.WebElement (session=\"26ea89482be7384401499e1205b5281f\", element=\"0d0872c1-3857-4202-9642-cf5992ae5929\")>]"
      ]
     },
     "execution_count": 19,
     "metadata": {},
     "output_type": "execute_result"
    }
   ],
   "source": [
    "driver.find_elements_by_class_name('product-container')"
   ]
  },
  {
   "cell_type": "markdown",
   "metadata": {},
   "source": [
    "At the time I wrote this notebook, attempting to filter only the tops using the checkbox caused the website to hang, i.e., no filtering occured. The following code block shows how we can refresh the page."
   ]
  },
  {
   "cell_type": "code",
   "execution_count": 20,
   "metadata": {},
   "outputs": [],
   "source": [
    "driver.refresh()"
   ]
  },
  {
   "cell_type": "markdown",
   "metadata": {},
   "source": [
    "The following code block attempts to filter the information using sub-categories."
   ]
  },
  {
   "cell_type": "code",
   "execution_count": 21,
   "metadata": {},
   "outputs": [],
   "source": [
    "subcategory_area = driver.find_element_by_id('subcategories')\n",
    "subcategory_area.find_element_by_partial_link_text('TOPS').click()"
   ]
  },
  {
   "cell_type": "markdown",
   "metadata": {},
   "source": [
    "Notice now that the filtering occured."
   ]
  },
  {
   "cell_type": "code",
   "execution_count": 22,
   "metadata": {},
   "outputs": [
    {
     "data": {
      "text/plain": [
       "[<selenium.webdriver.remote.webelement.WebElement (session=\"26ea89482be7384401499e1205b5281f\", element=\"2bf60d33-da2b-429a-9abf-30d2dffb9457\")>,\n",
       " <selenium.webdriver.remote.webelement.WebElement (session=\"26ea89482be7384401499e1205b5281f\", element=\"a7987750-2870-40d2-9614-e22eebb1e2c1\")>]"
      ]
     },
     "execution_count": 22,
     "metadata": {},
     "output_type": "execute_result"
    }
   ],
   "source": [
    "driver.find_elements_by_class_name('product-container')"
   ]
  },
  {
   "cell_type": "markdown",
   "metadata": {},
   "source": [
    "The following code block iterates over the product containers, printing all text. You can expand this code to extract only the elements you wish"
   ]
  },
  {
   "cell_type": "code",
   "execution_count": 23,
   "metadata": {},
   "outputs": [
    {
     "name": "stdout",
     "output_type": "stream",
     "text": [
      "Faded Short Sleeve T-shirts\n",
      "$16.51\n",
      "In stock\n",
      "-------------------------\n",
      "Blouse\n",
      "$27.00\n",
      "In stock\n",
      "-------------------------\n"
     ]
    }
   ],
   "source": [
    "for container in driver.find_elements_by_class_name('product-container'):\n",
    "    print(container.text)\n",
    "    print('-'*25)"
   ]
  },
  {
   "cell_type": "markdown",
   "metadata": {},
   "source": [
    "The following code block closes the driver."
   ]
  },
  {
   "cell_type": "code",
   "execution_count": 24,
   "metadata": {},
   "outputs": [],
   "source": [
    "driver.quit()"
   ]
  },
  {
   "cell_type": "markdown",
   "metadata": {},
   "source": [
    "The following code block automates the data collection process we just described. In the demo, I introduced some bugs to highlight some things you need to consider when working with `Selenium`"
   ]
  },
  {
   "cell_type": "code",
   "execution_count": 25,
   "metadata": {},
   "outputs": [
    {
     "name": "stdout",
     "output_type": "stream",
     "text": [
      "No filtering occured! Refreshing page.\n",
      "Faded Short Sleeve T-shirts\n",
      "$16.51\n",
      "Add to cart\n",
      "More\n",
      "In stock\n",
      "Add to Wishlist\n",
      "Add to Compare\n",
      "-------------------------\n",
      "Blouse\n",
      "$27.00\n",
      "Add to cart\n",
      "More\n",
      "In stock\n",
      "Add to Wishlist\n",
      "Add to Compare\n",
      "-------------------------\n"
     ]
    }
   ],
   "source": [
    "# create a driver instance\n",
    "driver = webdriver.Chrome()\n",
    "\n",
    "# define and naviagte to the target URL\n",
    "url = 'http://automationpractice.com'\n",
    "driver.get(url)\n",
    "\n",
    "# find the link for the WOMENs area and click\n",
    "if driver.find_elements_by_link_text('WOMEN'):\n",
    "    women_link = driver.find_element_by_link_text('WOMEN')\n",
    "    women_link.click()\n",
    "    time.sleep(2)\n",
    "    \n",
    "# determine the number of product containers before filtering\n",
    "initial_containers = len(driver.find_elements_by_class_name('product-container'))\n",
    "filtered = False\n",
    "\n",
    "# try to get filtered products using checkbox\n",
    "if driver.find_elements_by_id('layered_block_left'):\n",
    "    catalog_block = driver.find_element_by_id('layered_block_left')\n",
    "\n",
    "    if catalog_block.find_element_by_partial_link_text('Tops'):\n",
    "        catalog_block.find_element_by_partial_link_text('Tops').click()\n",
    "        time.sleep(2)\n",
    "        \n",
    "    filtered_containers = len(driver.find_elements_by_class_name('product-container'))\n",
    "\n",
    "# check to see if filtering occured. If not, refresh page.\n",
    "if initial_containers == filtered_containers:\n",
    "    print('No filtering occured! Refreshing page.')\n",
    "    driver.refresh()\n",
    "    time.sleep(2)\n",
    "\n",
    "else:\n",
    "    filtered = True\n",
    "\n",
    "# if filtering did not occur, try subcategory method\n",
    "if not filtered:\n",
    "    \n",
    "    if driver.find_elements_by_id('subcategories'):\n",
    "        subcategory_area = driver.find_element_by_id('subcategories')\n",
    "        subcategory_area.find_element_by_partial_link_text('TOPS').click()\n",
    "        time.sleep(2)\n",
    "        \n",
    "    filtered_containers = len(driver.find_elements_by_class_name('product-container'))\n",
    "        \n",
    "if initial_containers == filtered_containers:\n",
    "    print('No filtering occured! Refreshing page.')\n",
    "    driver.refresh()\n",
    "    time.sleep(2)\n",
    "else:\n",
    "    filtered = True\n",
    "\n",
    "# if filtering was successful, print containers\n",
    "if filtered:\n",
    "    for container in driver.find_elements_by_class_name('product-container'):\n",
    "        print(container.text)\n",
    "        print('-'*25)\n",
    "        \n",
    "driver.quit()"
   ]
  },
  {
   "cell_type": "code",
   "execution_count": null,
   "metadata": {},
   "outputs": [],
   "source": []
  }
 ],
 "metadata": {
  "kernelspec": {
   "display_name": "Python 3",
   "language": "python",
   "name": "python3"
  },
  "language_info": {
   "codemirror_mode": {
    "name": "ipython",
    "version": 3
   },
   "file_extension": ".py",
   "mimetype": "text/x-python",
   "name": "python",
   "nbconvert_exporter": "python",
   "pygments_lexer": "ipython3",
   "version": "3.7.6"
  }
 },
 "nbformat": 4,
 "nbformat_minor": 4
}
